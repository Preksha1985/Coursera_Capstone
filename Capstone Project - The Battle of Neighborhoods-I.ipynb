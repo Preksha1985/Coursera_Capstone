{
    "cells": [
        {
            "cell_type": "markdown",
            "metadata": {
                "collapsed": true
            },
            "source": "# The Battle of the Neighborhoods - Week 1"
        },
        {
            "cell_type": "markdown",
            "metadata": {},
            "source": "## Introduction & Business Problem :"
        },
        {
            "cell_type": "markdown",
            "metadata": {},
            "source": "The purpose of this Capstone Project is to \n- Help people in exploring better facilities around their neighborhood. It will help people making smart and efficient decision on selecting great neighborhood out of numbers of other neighborhoods and \n- To determine the best possible location to open an Restaurant on the different localities of the city based on the ease of accessibility by maximum number of people so that the revenue from the latest venture can be maximized, So need to choose the correct location to start thier first venture(restaurants)."
        },
        {
            "cell_type": "markdown",
            "metadata": {},
            "source": "### Problem Background:"
        },
        {
            "cell_type": "markdown",
            "metadata": {},
            "source": "The City of New York & Toronto both are the most populous cities.Both the cities are very diverse and are the financial capitals of their respective countries. both the cities have below attractions: <br>\n1.Multicultural.<br>\n2.Provides lot of business oppourtunities and business friendly environment. <br>\n3.Attracted many different players into the market.<br> \n4.Global hub of business and commerce. The city is a major center for banking and finance, retailing, world trade, transportation, tourism, real estate, new media, traditional media, advertising, legal services, accountancy, insurance, theater, fashion, and the arts in the United States.\n\nThis also means that the market is highly competitive. As it is highly developed city so cost of doing business is also one of the highest. Thus, any new business venture or expansion needs to be analysed carefully. The insights derived from analysis will give good understanding of the business environment which help in strategically targeting the market. This will help in reduction of risk. And the Return on Investment will be reasonable.\n"
        },
        {
            "cell_type": "markdown",
            "metadata": {},
            "source": "### Problem Description:"
        },
        {
            "cell_type": "markdown",
            "metadata": {},
            "source": "A restaurant is a business which prepares and serves food and The City of New York is famous for its excelllent cuisine.So it is evident that to survive in such competitive market it is very important to startegically plan. Various factors need to be studied inorder to decide on the Location such as : <br>\n1.Population <br>\n2.Demographics <br>\n3.Who are the competitors in that location? <br>\n4.Segmentation of the Borough <br>\n"
        },
        {
            "cell_type": "markdown",
            "metadata": {},
            "source": "## Data Section :"
        },
        {
            "cell_type": "markdown",
            "metadata": {},
            "source": "<b>Foursquare API Data: </b> We will need data about different venues in different neighborhoods of that specific borough.\nIn order to gain that information we will use \u201cFoursquare\u201d locational information. Foursquare is a location data provider with information about all manner of venues and events within an area of interest. Such information includes venue names, locations, menus and even photos. As such, the foursquare location platform will be used as the sole data source since all the stated required information can be obtained through the API.\n\nAfter finding the list of neighborhoods, we then connect to the Foursquare API to gather information about venues inside each and every neighborhood. For each neighborhood, we have chosen the radius to be 100 meter.\n\nThe data retrieved from Foursquare contained information of venues within a specified distance of the longitude and latitude of the postcodes. The information obtained per venue as follows:\n\n\n1. Neighborhood\n2. Neighborhood Latitude\n3. Neighborhood Longitude\n4. Venue\n5. Name of the venue e.g. the name of a store or restaurant\n6. Venue Latitude\n7. Venue Longitude\n8. Venue Category\n\n<b> Methodology: </b>\n\n1. Getting the co-ordinates of the target city.\n2. Getting the list of neighborhoods and their co-ordinates.\n3. Exploring the most visited venues in the target localities.\n4. Clustering the localities.\n5. Analyzing the clusters formed.\n6. Collecting information about the type of restaurants already present in a locality.\n7. Public Programming Tools like <b>Folium </b> to visualize the neighborhoods in the city.Then based upon the analysis of the Foursquare information we can update the Folium visualization to reflect the number of amenities in a neighborhood\n8. <b>K-Means Clustering Algorithm</b> to group amenities in an area, then we can reduce the number of individual amenities comparisons to be done against each neighborhood. We can do these comparisons against the types of amenities, individually and collectively."
        }
    ],
    "metadata": {
        "kernelspec": {
            "display_name": "Python 3.7",
            "language": "python",
            "name": "python3"
        },
        "language_info": {
            "codemirror_mode": {
                "name": "ipython",
                "version": 3
            },
            "file_extension": ".py",
            "mimetype": "text/x-python",
            "name": "python",
            "nbconvert_exporter": "python",
            "pygments_lexer": "ipython3",
            "version": "3.7.10"
        }
    },
    "nbformat": 4,
    "nbformat_minor": 1
}